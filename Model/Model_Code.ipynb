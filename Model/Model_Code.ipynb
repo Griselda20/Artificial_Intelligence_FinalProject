{
  "cells": [
    {
      "cell_type": "markdown",
      "metadata": {
        "id": "vWa-rBUsLop3"
      },
      "source": [
        "**Import the necessary libraries:**"
      ]
    },
    {
      "cell_type": "code",
      "execution_count": 1,
      "metadata": {
        "id": "d2vrCfJoLbBZ"
      },
      "outputs": [],
      "source": [
        "import pandas as pd"
      ]
    },
    {
      "cell_type": "markdown",
      "metadata": {
        "id": "VYkatSVPLyV8"
      },
      "source": [
        "**Load the dataset using pandas:**"
      ]
    },
    {
      "cell_type": "code",
      "execution_count": 2,
      "metadata": {
        "id": "cOLqv750L2VA"
      },
      "outputs": [],
      "source": [
        "data = pd.read_csv('android_traffic.csv', sep=';')"
      ]
    },
    {
      "cell_type": "code",
      "execution_count": 3,
      "metadata": {
        "colab": {
          "base_uri": "https://localhost:8080/",
          "height": 226
        },
        "id": "SIJn7lXerN0r",
        "outputId": "28882769-f7f0-4726-e09c-8f7bc3b993c3"
      },
      "outputs": [
        {
          "data": {
            "text/html": [
              "<div>\n",
              "<style scoped>\n",
              "    .dataframe tbody tr th:only-of-type {\n",
              "        vertical-align: middle;\n",
              "    }\n",
              "\n",
              "    .dataframe tbody tr th {\n",
              "        vertical-align: top;\n",
              "    }\n",
              "\n",
              "    .dataframe thead th {\n",
              "        text-align: right;\n",
              "    }\n",
              "</style>\n",
              "<table border=\"1\" class=\"dataframe\">\n",
              "  <thead>\n",
              "    <tr style=\"text-align: right;\">\n",
              "      <th></th>\n",
              "      <th>name</th>\n",
              "      <th>tcp_packets</th>\n",
              "      <th>dist_port_tcp</th>\n",
              "      <th>external_ips</th>\n",
              "      <th>vulume_bytes</th>\n",
              "      <th>udp_packets</th>\n",
              "      <th>tcp_urg_packet</th>\n",
              "      <th>source_app_packets</th>\n",
              "      <th>remote_app_packets</th>\n",
              "      <th>source_app_bytes</th>\n",
              "      <th>remote_app_bytes</th>\n",
              "      <th>duracion</th>\n",
              "      <th>avg_local_pkt_rate</th>\n",
              "      <th>avg_remote_pkt_rate</th>\n",
              "      <th>source_app_packets.1</th>\n",
              "      <th>dns_query_times</th>\n",
              "      <th>type</th>\n",
              "    </tr>\n",
              "  </thead>\n",
              "  <tbody>\n",
              "    <tr>\n",
              "      <th>0</th>\n",
              "      <td>AntiVirus</td>\n",
              "      <td>36</td>\n",
              "      <td>6</td>\n",
              "      <td>3</td>\n",
              "      <td>3911</td>\n",
              "      <td>0</td>\n",
              "      <td>0</td>\n",
              "      <td>39</td>\n",
              "      <td>33</td>\n",
              "      <td>5100</td>\n",
              "      <td>4140</td>\n",
              "      <td>NaN</td>\n",
              "      <td>NaN</td>\n",
              "      <td>NaN</td>\n",
              "      <td>39</td>\n",
              "      <td>3</td>\n",
              "      <td>benign</td>\n",
              "    </tr>\n",
              "    <tr>\n",
              "      <th>1</th>\n",
              "      <td>AntiVirus</td>\n",
              "      <td>117</td>\n",
              "      <td>0</td>\n",
              "      <td>9</td>\n",
              "      <td>23514</td>\n",
              "      <td>0</td>\n",
              "      <td>0</td>\n",
              "      <td>128</td>\n",
              "      <td>107</td>\n",
              "      <td>26248</td>\n",
              "      <td>24358</td>\n",
              "      <td>NaN</td>\n",
              "      <td>NaN</td>\n",
              "      <td>NaN</td>\n",
              "      <td>128</td>\n",
              "      <td>11</td>\n",
              "      <td>benign</td>\n",
              "    </tr>\n",
              "    <tr>\n",
              "      <th>2</th>\n",
              "      <td>AntiVirus</td>\n",
              "      <td>196</td>\n",
              "      <td>0</td>\n",
              "      <td>6</td>\n",
              "      <td>24151</td>\n",
              "      <td>0</td>\n",
              "      <td>0</td>\n",
              "      <td>205</td>\n",
              "      <td>214</td>\n",
              "      <td>163887</td>\n",
              "      <td>24867</td>\n",
              "      <td>NaN</td>\n",
              "      <td>NaN</td>\n",
              "      <td>NaN</td>\n",
              "      <td>205</td>\n",
              "      <td>9</td>\n",
              "      <td>benign</td>\n",
              "    </tr>\n",
              "    <tr>\n",
              "      <th>3</th>\n",
              "      <td>AntiVirus</td>\n",
              "      <td>6</td>\n",
              "      <td>0</td>\n",
              "      <td>1</td>\n",
              "      <td>889</td>\n",
              "      <td>0</td>\n",
              "      <td>0</td>\n",
              "      <td>7</td>\n",
              "      <td>6</td>\n",
              "      <td>819</td>\n",
              "      <td>975</td>\n",
              "      <td>NaN</td>\n",
              "      <td>NaN</td>\n",
              "      <td>NaN</td>\n",
              "      <td>7</td>\n",
              "      <td>1</td>\n",
              "      <td>benign</td>\n",
              "    </tr>\n",
              "    <tr>\n",
              "      <th>4</th>\n",
              "      <td>AntiVirus</td>\n",
              "      <td>6</td>\n",
              "      <td>0</td>\n",
              "      <td>1</td>\n",
              "      <td>882</td>\n",
              "      <td>0</td>\n",
              "      <td>0</td>\n",
              "      <td>7</td>\n",
              "      <td>6</td>\n",
              "      <td>819</td>\n",
              "      <td>968</td>\n",
              "      <td>NaN</td>\n",
              "      <td>NaN</td>\n",
              "      <td>NaN</td>\n",
              "      <td>7</td>\n",
              "      <td>1</td>\n",
              "      <td>benign</td>\n",
              "    </tr>\n",
              "  </tbody>\n",
              "</table>\n",
              "</div>"
            ],
            "text/plain": [
              "        name  tcp_packets  dist_port_tcp  external_ips  vulume_bytes  \\\n",
              "0  AntiVirus           36              6             3          3911   \n",
              "1  AntiVirus          117              0             9         23514   \n",
              "2  AntiVirus          196              0             6         24151   \n",
              "3  AntiVirus            6              0             1           889   \n",
              "4  AntiVirus            6              0             1           882   \n",
              "\n",
              "   udp_packets  tcp_urg_packet  source_app_packets  remote_app_packets  \\\n",
              "0            0               0                  39                  33   \n",
              "1            0               0                 128                 107   \n",
              "2            0               0                 205                 214   \n",
              "3            0               0                   7                   6   \n",
              "4            0               0                   7                   6   \n",
              "\n",
              "   source_app_bytes  remote_app_bytes  duracion  avg_local_pkt_rate  \\\n",
              "0              5100              4140       NaN                 NaN   \n",
              "1             26248             24358       NaN                 NaN   \n",
              "2            163887             24867       NaN                 NaN   \n",
              "3               819               975       NaN                 NaN   \n",
              "4               819               968       NaN                 NaN   \n",
              "\n",
              "   avg_remote_pkt_rate  source_app_packets.1  dns_query_times    type  \n",
              "0                  NaN                    39                3  benign  \n",
              "1                  NaN                   128               11  benign  \n",
              "2                  NaN                   205                9  benign  \n",
              "3                  NaN                     7                1  benign  \n",
              "4                  NaN                     7                1  benign  "
            ]
          },
          "execution_count": 3,
          "metadata": {},
          "output_type": "execute_result"
        }
      ],
      "source": [
        "data.head()"
      ]
    },
    {
      "cell_type": "markdown",
      "metadata": {
        "id": "RUC18R3plO39"
      },
      "source": [
        "**Drop Kolom**\n"
      ]
    },
    {
      "cell_type": "code",
      "execution_count": 4,
      "metadata": {
        "id": "1C7Ji666t-Pn"
      },
      "outputs": [],
      "source": [
        "columns_to_drop = ['duracion','avg_local_pkt_rate', 'avg_remote_pkt_rate']\n",
        "data = data.drop(columns_to_drop, axis=1)"
      ]
    },
    {
      "cell_type": "code",
      "execution_count": 5,
      "metadata": {
        "colab": {
          "base_uri": "https://localhost:8080/",
          "height": 226
        },
        "id": "ZurTnVvqjV85",
        "outputId": "084260d0-304d-4c09-d96c-7397dfc3d842"
      },
      "outputs": [
        {
          "data": {
            "text/html": [
              "<div>\n",
              "<style scoped>\n",
              "    .dataframe tbody tr th:only-of-type {\n",
              "        vertical-align: middle;\n",
              "    }\n",
              "\n",
              "    .dataframe tbody tr th {\n",
              "        vertical-align: top;\n",
              "    }\n",
              "\n",
              "    .dataframe thead th {\n",
              "        text-align: right;\n",
              "    }\n",
              "</style>\n",
              "<table border=\"1\" class=\"dataframe\">\n",
              "  <thead>\n",
              "    <tr style=\"text-align: right;\">\n",
              "      <th></th>\n",
              "      <th>name</th>\n",
              "      <th>tcp_packets</th>\n",
              "      <th>dist_port_tcp</th>\n",
              "      <th>external_ips</th>\n",
              "      <th>vulume_bytes</th>\n",
              "      <th>udp_packets</th>\n",
              "      <th>tcp_urg_packet</th>\n",
              "      <th>source_app_packets</th>\n",
              "      <th>remote_app_packets</th>\n",
              "      <th>source_app_bytes</th>\n",
              "      <th>remote_app_bytes</th>\n",
              "      <th>source_app_packets.1</th>\n",
              "      <th>dns_query_times</th>\n",
              "      <th>type</th>\n",
              "    </tr>\n",
              "  </thead>\n",
              "  <tbody>\n",
              "    <tr>\n",
              "      <th>0</th>\n",
              "      <td>AntiVirus</td>\n",
              "      <td>36</td>\n",
              "      <td>6</td>\n",
              "      <td>3</td>\n",
              "      <td>3911</td>\n",
              "      <td>0</td>\n",
              "      <td>0</td>\n",
              "      <td>39</td>\n",
              "      <td>33</td>\n",
              "      <td>5100</td>\n",
              "      <td>4140</td>\n",
              "      <td>39</td>\n",
              "      <td>3</td>\n",
              "      <td>benign</td>\n",
              "    </tr>\n",
              "    <tr>\n",
              "      <th>1</th>\n",
              "      <td>AntiVirus</td>\n",
              "      <td>117</td>\n",
              "      <td>0</td>\n",
              "      <td>9</td>\n",
              "      <td>23514</td>\n",
              "      <td>0</td>\n",
              "      <td>0</td>\n",
              "      <td>128</td>\n",
              "      <td>107</td>\n",
              "      <td>26248</td>\n",
              "      <td>24358</td>\n",
              "      <td>128</td>\n",
              "      <td>11</td>\n",
              "      <td>benign</td>\n",
              "    </tr>\n",
              "    <tr>\n",
              "      <th>2</th>\n",
              "      <td>AntiVirus</td>\n",
              "      <td>196</td>\n",
              "      <td>0</td>\n",
              "      <td>6</td>\n",
              "      <td>24151</td>\n",
              "      <td>0</td>\n",
              "      <td>0</td>\n",
              "      <td>205</td>\n",
              "      <td>214</td>\n",
              "      <td>163887</td>\n",
              "      <td>24867</td>\n",
              "      <td>205</td>\n",
              "      <td>9</td>\n",
              "      <td>benign</td>\n",
              "    </tr>\n",
              "    <tr>\n",
              "      <th>3</th>\n",
              "      <td>AntiVirus</td>\n",
              "      <td>6</td>\n",
              "      <td>0</td>\n",
              "      <td>1</td>\n",
              "      <td>889</td>\n",
              "      <td>0</td>\n",
              "      <td>0</td>\n",
              "      <td>7</td>\n",
              "      <td>6</td>\n",
              "      <td>819</td>\n",
              "      <td>975</td>\n",
              "      <td>7</td>\n",
              "      <td>1</td>\n",
              "      <td>benign</td>\n",
              "    </tr>\n",
              "    <tr>\n",
              "      <th>4</th>\n",
              "      <td>AntiVirus</td>\n",
              "      <td>6</td>\n",
              "      <td>0</td>\n",
              "      <td>1</td>\n",
              "      <td>882</td>\n",
              "      <td>0</td>\n",
              "      <td>0</td>\n",
              "      <td>7</td>\n",
              "      <td>6</td>\n",
              "      <td>819</td>\n",
              "      <td>968</td>\n",
              "      <td>7</td>\n",
              "      <td>1</td>\n",
              "      <td>benign</td>\n",
              "    </tr>\n",
              "  </tbody>\n",
              "</table>\n",
              "</div>"
            ],
            "text/plain": [
              "        name  tcp_packets  dist_port_tcp  external_ips  vulume_bytes  \\\n",
              "0  AntiVirus           36              6             3          3911   \n",
              "1  AntiVirus          117              0             9         23514   \n",
              "2  AntiVirus          196              0             6         24151   \n",
              "3  AntiVirus            6              0             1           889   \n",
              "4  AntiVirus            6              0             1           882   \n",
              "\n",
              "   udp_packets  tcp_urg_packet  source_app_packets  remote_app_packets  \\\n",
              "0            0               0                  39                  33   \n",
              "1            0               0                 128                 107   \n",
              "2            0               0                 205                 214   \n",
              "3            0               0                   7                   6   \n",
              "4            0               0                   7                   6   \n",
              "\n",
              "   source_app_bytes  remote_app_bytes  source_app_packets.1  dns_query_times  \\\n",
              "0              5100              4140                    39                3   \n",
              "1             26248             24358                   128               11   \n",
              "2            163887             24867                   205                9   \n",
              "3               819               975                     7                1   \n",
              "4               819               968                     7                1   \n",
              "\n",
              "     type  \n",
              "0  benign  \n",
              "1  benign  \n",
              "2  benign  \n",
              "3  benign  \n",
              "4  benign  "
            ]
          },
          "execution_count": 5,
          "metadata": {},
          "output_type": "execute_result"
        }
      ],
      "source": [
        "data.head()"
      ]
    },
    {
      "cell_type": "markdown",
      "metadata": {
        "id": "qsrog1dOp-7u"
      },
      "source": [
        "**Create a new DataFrame that does not have a 'type' column.**"
      ]
    },
    {
      "cell_type": "code",
      "execution_count": 6,
      "metadata": {
        "colab": {
          "base_uri": "https://localhost:8080/"
        },
        "id": "S9gu1S1XmMW-",
        "outputId": "e5a7faac-a029-4c51-fb37-53d35235835e"
      },
      "outputs": [
        {
          "name": "stdout",
          "output_type": "stream",
          "text": [
            "           name  tcp_packets  dist_port_tcp  external_ips  vulume_bytes  \\\n",
            "0     AntiVirus           36              6             3          3911   \n",
            "1     AntiVirus          117              0             9         23514   \n",
            "2     AntiVirus          196              0             6         24151   \n",
            "3     AntiVirus            6              0             1           889   \n",
            "4     AntiVirus            6              0             1           882   \n",
            "...         ...          ...            ...           ...           ...   \n",
            "7840      Zsone            0              0             0             0   \n",
            "7841      Zsone            4              4             1           296   \n",
            "7842      Zsone            0              0             0             0   \n",
            "7843      Zsone            0              0             0             0   \n",
            "7844      Zsone            0              0             0             0   \n",
            "\n",
            "      udp_packets  tcp_urg_packet  source_app_packets  remote_app_packets  \\\n",
            "0               0               0                  39                  33   \n",
            "1               0               0                 128                 107   \n",
            "2               0               0                 205                 214   \n",
            "3               0               0                   7                   6   \n",
            "4               0               0                   7                   6   \n",
            "...           ...             ...                 ...                 ...   \n",
            "7840            0               0                   2                   2   \n",
            "7841            0               0                   5                   1   \n",
            "7842            0               0                   2                   2   \n",
            "7843            0               0                   2                   2   \n",
            "7844            0               0                   2                   2   \n",
            "\n",
            "      source_app_bytes  remote_app_bytes  source_app_packets.1  \\\n",
            "0                 5100              4140                    39   \n",
            "1                26248             24358                   128   \n",
            "2               163887             24867                   205   \n",
            "3                  819               975                     7   \n",
            "4                  819               968                     7   \n",
            "...                ...               ...                   ...   \n",
            "7840               257               143                     2   \n",
            "7841                86               382                     5   \n",
            "7842               257               143                     2   \n",
            "7843               257               143                     2   \n",
            "7844               257               143                     2   \n",
            "\n",
            "      dns_query_times  \n",
            "0                   3  \n",
            "1                  11  \n",
            "2                   9  \n",
            "3                   1  \n",
            "4                   1  \n",
            "...               ...  \n",
            "7840                2  \n",
            "7841                1  \n",
            "7842                2  \n",
            "7843                2  \n",
            "7844                2  \n",
            "\n",
            "[7845 rows x 13 columns]\n"
          ]
        }
      ],
      "source": [
        "X = data.drop('type', axis=1)\n",
        "print(X)"
      ]
    },
    {
      "cell_type": "code",
      "execution_count": 7,
      "metadata": {
        "colab": {
          "base_uri": "https://localhost:8080/"
        },
        "id": "2FX2jBT9rqpj",
        "outputId": "d57d310a-ce62-4686-c50d-58b4d510a303"
      },
      "outputs": [
        {
          "name": "stdout",
          "output_type": "stream",
          "text": [
            "0          benign\n",
            "1          benign\n",
            "2          benign\n",
            "3          benign\n",
            "4          benign\n",
            "          ...    \n",
            "7840    malicious\n",
            "7841    malicious\n",
            "7842    malicious\n",
            "7843    malicious\n",
            "7844    malicious\n",
            "Name: type, Length: 7845, dtype: object\n"
          ]
        }
      ],
      "source": [
        "y = data['type']\n",
        "print(y)"
      ]
    },
    {
      "cell_type": "markdown",
      "metadata": {
        "id": "oVeNcPBap98k"
      },
      "source": [
        "**Change a string column to numeric:**"
      ]
    },
    {
      "cell_type": "code",
      "execution_count": 8,
      "metadata": {
        "id": "syeTjNtjp4HX"
      },
      "outputs": [],
      "source": [
        "from sklearn.preprocessing import LabelEncoder\n",
        "\n",
        "X = pd.get_dummies(X)\n",
        "label_encoder = LabelEncoder()\n",
        "y = label_encoder.fit_transform(y)"
      ]
    },
    {
      "cell_type": "markdown",
      "metadata": {
        "id": "jmDFTyHSME2-"
      },
      "source": [
        "**Split the dataset into training and testing sets:**"
      ]
    },
    {
      "cell_type": "code",
      "execution_count": 9,
      "metadata": {
        "id": "QLaQ_qeFsKQj"
      },
      "outputs": [],
      "source": [
        "from sklearn.model_selection import train_test_split\n",
        "from sklearn.ensemble import RandomForestClassifier\n",
        "\n",
        "X_train, X_test, y_train, y_test = train_test_split(X, y, test_size=0.2, random_state=0)\n"
      ]
    },
    {
      "cell_type": "markdown",
      "metadata": {
        "id": "N_f_IDgFMSQY"
      },
      "source": [
        "**Train the Linear Regression model:**"
      ]
    },
    {
      "cell_type": "code",
      "execution_count": 10,
      "metadata": {
        "colab": {
          "base_uri": "https://localhost:8080/",
          "height": 75
        },
        "id": "l7s-vw3GsH2-",
        "outputId": "4e5072f4-da6e-41b0-849f-06ace1276333"
      },
      "outputs": [
        {
          "data": {
            "text/plain": [
              "LinearRegression()"
            ]
          },
          "execution_count": 10,
          "metadata": {},
          "output_type": "execute_result"
        }
      ],
      "source": [
        "from sklearn.linear_model import LinearRegression\n",
        "regressor = LinearRegression()\n",
        "regressor.fit(X_train, y_train)"
      ]
    },
    {
      "cell_type": "markdown",
      "metadata": {
        "id": "RXZu4PbNMSqz"
      },
      "source": [
        "**Predict the test set results:**"
      ]
    },
    {
      "cell_type": "code",
      "execution_count": 11,
      "metadata": {
        "id": "_rYSBI0iMS24"
      },
      "outputs": [],
      "source": [
        "y_pred = regressor.predict(X_test)"
      ]
    },
    {
      "cell_type": "markdown",
      "metadata": {
        "id": "QoPxGCj3MTAK"
      },
      "source": [
        "**Evaluate the model using metrics such as Mean Squared Error (MSE), R-squared and Mean Absolute Error (MAE):**"
      ]
    },
    {
      "cell_type": "code",
      "execution_count": 12,
      "metadata": {
        "colab": {
          "base_uri": "https://localhost:8080/"
        },
        "id": "UjCpVJlVMTHZ",
        "outputId": "1bbc2460-dca7-432b-98c7-f0e64bde308a"
      },
      "outputs": [
        {
          "name": "stdout",
          "output_type": "stream",
          "text": [
            "Mean Squared Error: 0.00020811382031291664\n",
            "R-squared: 0.9991407637525914\n",
            "Mean Absolute Error (MAE): 0.0010925992700566022\n"
          ]
        }
      ],
      "source": [
        "from sklearn.metrics import mean_squared_error, r2_score, mean_absolute_error\n",
        "\n",
        "# Hitung metrik evaluasi\n",
        "mse = mean_squared_error(y_test, y_pred)\n",
        "r2 = r2_score(y_test, y_pred)\n",
        "mae = mean_absolute_error(y_test, y_pred)\n",
        "\n",
        "# Tampilkan hasil evaluasi\n",
        "print('Mean Squared Error:', mse)\n",
        "print('R-squared:', r2)\n",
        "print('Mean Absolute Error (MAE):', mae)"
      ]
    }
  ],
  "metadata": {
    "colab": {
      "provenance": []
    },
    "kernelspec": {
      "display_name": "Python 3",
      "name": "python3"
    },
    "language_info": {
      "codemirror_mode": {
        "name": "ipython",
        "version": 3
      },
      "file_extension": ".py",
      "mimetype": "text/x-python",
      "name": "python",
      "nbconvert_exporter": "python",
      "pygments_lexer": "ipython3",
      "version": "3.9.12"
    }
  },
  "nbformat": 4,
  "nbformat_minor": 0
}
