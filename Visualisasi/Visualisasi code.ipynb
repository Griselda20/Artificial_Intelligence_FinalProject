{
  "cells": [
    {
      "cell_type": "code",
      "execution_count": 1,
      "metadata": {
        "id": "bAcLBd9d3s-l"
      },
      "outputs": [],
      "source": [
        "import pandas as pd #untuk dataframe\n",
        "import pylab as pl #untuk plotting\n",
        "import matplotlib.pyplot as plt\n",
        "from sklearn.linear_model import LinearRegression\n",
        "%matplotlib inline"
      ]
    },
    {
      "cell_type": "code",
      "execution_count": 2,
      "metadata": {
        "id": "-G1ikaWE3kmX"
      },
      "outputs": [],
      "source": [
        "data = pd.read_csv('android_traffic.csv', sep=';')"
      ]
    },
    {
      "cell_type": "code",
      "execution_count": 3,
      "metadata": {
        "colab": {
          "base_uri": "https://localhost:8080/",
          "height": 226
        },
        "id": "QWTF5_2l4UlF",
        "outputId": "2e381f67-9dbe-4842-f6b1-204cfe8cf41b"
      },
      "outputs": [
        {
          "data": {
            "text/html": [
              "<div>\n",
              "<style scoped>\n",
              "    .dataframe tbody tr th:only-of-type {\n",
              "        vertical-align: middle;\n",
              "    }\n",
              "\n",
              "    .dataframe tbody tr th {\n",
              "        vertical-align: top;\n",
              "    }\n",
              "\n",
              "    .dataframe thead th {\n",
              "        text-align: right;\n",
              "    }\n",
              "</style>\n",
              "<table border=\"1\" class=\"dataframe\">\n",
              "  <thead>\n",
              "    <tr style=\"text-align: right;\">\n",
              "      <th></th>\n",
              "      <th>name</th>\n",
              "      <th>tcp_packets</th>\n",
              "      <th>dist_port_tcp</th>\n",
              "      <th>external_ips</th>\n",
              "      <th>vulume_bytes</th>\n",
              "      <th>udp_packets</th>\n",
              "      <th>tcp_urg_packet</th>\n",
              "      <th>source_app_packets</th>\n",
              "      <th>remote_app_packets</th>\n",
              "      <th>source_app_bytes</th>\n",
              "      <th>remote_app_bytes</th>\n",
              "      <th>duracion</th>\n",
              "      <th>avg_local_pkt_rate</th>\n",
              "      <th>avg_remote_pkt_rate</th>\n",
              "      <th>source_app_packets.1</th>\n",
              "      <th>dns_query_times</th>\n",
              "      <th>type</th>\n",
              "    </tr>\n",
              "  </thead>\n",
              "  <tbody>\n",
              "    <tr>\n",
              "      <th>0</th>\n",
              "      <td>AntiVirus</td>\n",
              "      <td>36</td>\n",
              "      <td>6</td>\n",
              "      <td>3</td>\n",
              "      <td>3911</td>\n",
              "      <td>0</td>\n",
              "      <td>0</td>\n",
              "      <td>39</td>\n",
              "      <td>33</td>\n",
              "      <td>5100</td>\n",
              "      <td>4140</td>\n",
              "      <td>NaN</td>\n",
              "      <td>NaN</td>\n",
              "      <td>NaN</td>\n",
              "      <td>39</td>\n",
              "      <td>3</td>\n",
              "      <td>benign</td>\n",
              "    </tr>\n",
              "    <tr>\n",
              "      <th>1</th>\n",
              "      <td>AntiVirus</td>\n",
              "      <td>117</td>\n",
              "      <td>0</td>\n",
              "      <td>9</td>\n",
              "      <td>23514</td>\n",
              "      <td>0</td>\n",
              "      <td>0</td>\n",
              "      <td>128</td>\n",
              "      <td>107</td>\n",
              "      <td>26248</td>\n",
              "      <td>24358</td>\n",
              "      <td>NaN</td>\n",
              "      <td>NaN</td>\n",
              "      <td>NaN</td>\n",
              "      <td>128</td>\n",
              "      <td>11</td>\n",
              "      <td>benign</td>\n",
              "    </tr>\n",
              "    <tr>\n",
              "      <th>2</th>\n",
              "      <td>AntiVirus</td>\n",
              "      <td>196</td>\n",
              "      <td>0</td>\n",
              "      <td>6</td>\n",
              "      <td>24151</td>\n",
              "      <td>0</td>\n",
              "      <td>0</td>\n",
              "      <td>205</td>\n",
              "      <td>214</td>\n",
              "      <td>163887</td>\n",
              "      <td>24867</td>\n",
              "      <td>NaN</td>\n",
              "      <td>NaN</td>\n",
              "      <td>NaN</td>\n",
              "      <td>205</td>\n",
              "      <td>9</td>\n",
              "      <td>benign</td>\n",
              "    </tr>\n",
              "    <tr>\n",
              "      <th>3</th>\n",
              "      <td>AntiVirus</td>\n",
              "      <td>6</td>\n",
              "      <td>0</td>\n",
              "      <td>1</td>\n",
              "      <td>889</td>\n",
              "      <td>0</td>\n",
              "      <td>0</td>\n",
              "      <td>7</td>\n",
              "      <td>6</td>\n",
              "      <td>819</td>\n",
              "      <td>975</td>\n",
              "      <td>NaN</td>\n",
              "      <td>NaN</td>\n",
              "      <td>NaN</td>\n",
              "      <td>7</td>\n",
              "      <td>1</td>\n",
              "      <td>benign</td>\n",
              "    </tr>\n",
              "    <tr>\n",
              "      <th>4</th>\n",
              "      <td>AntiVirus</td>\n",
              "      <td>6</td>\n",
              "      <td>0</td>\n",
              "      <td>1</td>\n",
              "      <td>882</td>\n",
              "      <td>0</td>\n",
              "      <td>0</td>\n",
              "      <td>7</td>\n",
              "      <td>6</td>\n",
              "      <td>819</td>\n",
              "      <td>968</td>\n",
              "      <td>NaN</td>\n",
              "      <td>NaN</td>\n",
              "      <td>NaN</td>\n",
              "      <td>7</td>\n",
              "      <td>1</td>\n",
              "      <td>benign</td>\n",
              "    </tr>\n",
              "  </tbody>\n",
              "</table>\n",
              "</div>"
            ],
            "text/plain": [
              "        name  tcp_packets  dist_port_tcp  external_ips  vulume_bytes  \\\n",
              "0  AntiVirus           36              6             3          3911   \n",
              "1  AntiVirus          117              0             9         23514   \n",
              "2  AntiVirus          196              0             6         24151   \n",
              "3  AntiVirus            6              0             1           889   \n",
              "4  AntiVirus            6              0             1           882   \n",
              "\n",
              "   udp_packets  tcp_urg_packet  source_app_packets  remote_app_packets  \\\n",
              "0            0               0                  39                  33   \n",
              "1            0               0                 128                 107   \n",
              "2            0               0                 205                 214   \n",
              "3            0               0                   7                   6   \n",
              "4            0               0                   7                   6   \n",
              "\n",
              "   source_app_bytes  remote_app_bytes  duracion  avg_local_pkt_rate  \\\n",
              "0              5100              4140       NaN                 NaN   \n",
              "1             26248             24358       NaN                 NaN   \n",
              "2            163887             24867       NaN                 NaN   \n",
              "3               819               975       NaN                 NaN   \n",
              "4               819               968       NaN                 NaN   \n",
              "\n",
              "   avg_remote_pkt_rate  source_app_packets.1  dns_query_times    type  \n",
              "0                  NaN                    39                3  benign  \n",
              "1                  NaN                   128               11  benign  \n",
              "2                  NaN                   205                9  benign  \n",
              "3                  NaN                     7                1  benign  \n",
              "4                  NaN                     7                1  benign  "
            ]
          },
          "execution_count": 3,
          "metadata": {},
          "output_type": "execute_result"
        }
      ],
      "source": [
        "# melihat 5 baris pertama data\n",
        "data.head()"
      ]
    },
    {
      "cell_type": "code",
      "execution_count": 4,
      "metadata": {
        "colab": {
          "base_uri": "https://localhost:8080/",
          "height": 383
        },
        "id": "Rvb2oc2e59R-",
        "outputId": "274c5ac7-0236-4a17-f558-6d769a744383"
      },
      "outputs": [
        {
          "data": {
            "text/html": [
              "<div>\n",
              "<style scoped>\n",
              "    .dataframe tbody tr th:only-of-type {\n",
              "        vertical-align: middle;\n",
              "    }\n",
              "\n",
              "    .dataframe tbody tr th {\n",
              "        vertical-align: top;\n",
              "    }\n",
              "\n",
              "    .dataframe thead th {\n",
              "        text-align: right;\n",
              "    }\n",
              "</style>\n",
              "<table border=\"1\" class=\"dataframe\">\n",
              "  <thead>\n",
              "    <tr style=\"text-align: right;\">\n",
              "      <th></th>\n",
              "      <th>tcp_packets</th>\n",
              "      <th>dist_port_tcp</th>\n",
              "      <th>external_ips</th>\n",
              "      <th>vulume_bytes</th>\n",
              "      <th>udp_packets</th>\n",
              "      <th>tcp_urg_packet</th>\n",
              "      <th>source_app_packets</th>\n",
              "      <th>remote_app_packets</th>\n",
              "      <th>source_app_bytes</th>\n",
              "      <th>remote_app_bytes</th>\n",
              "      <th>source_app_packets.1</th>\n",
              "      <th>dns_query_times</th>\n",
              "      <th>type</th>\n",
              "    </tr>\n",
              "  </thead>\n",
              "  <tbody>\n",
              "    <tr>\n",
              "      <th>0</th>\n",
              "      <td>36</td>\n",
              "      <td>6</td>\n",
              "      <td>3</td>\n",
              "      <td>3911</td>\n",
              "      <td>0</td>\n",
              "      <td>0</td>\n",
              "      <td>39</td>\n",
              "      <td>33</td>\n",
              "      <td>5100</td>\n",
              "      <td>4140</td>\n",
              "      <td>39</td>\n",
              "      <td>3</td>\n",
              "      <td>benign</td>\n",
              "    </tr>\n",
              "    <tr>\n",
              "      <th>1</th>\n",
              "      <td>117</td>\n",
              "      <td>0</td>\n",
              "      <td>9</td>\n",
              "      <td>23514</td>\n",
              "      <td>0</td>\n",
              "      <td>0</td>\n",
              "      <td>128</td>\n",
              "      <td>107</td>\n",
              "      <td>26248</td>\n",
              "      <td>24358</td>\n",
              "      <td>128</td>\n",
              "      <td>11</td>\n",
              "      <td>benign</td>\n",
              "    </tr>\n",
              "    <tr>\n",
              "      <th>2</th>\n",
              "      <td>196</td>\n",
              "      <td>0</td>\n",
              "      <td>6</td>\n",
              "      <td>24151</td>\n",
              "      <td>0</td>\n",
              "      <td>0</td>\n",
              "      <td>205</td>\n",
              "      <td>214</td>\n",
              "      <td>163887</td>\n",
              "      <td>24867</td>\n",
              "      <td>205</td>\n",
              "      <td>9</td>\n",
              "      <td>benign</td>\n",
              "    </tr>\n",
              "    <tr>\n",
              "      <th>3</th>\n",
              "      <td>6</td>\n",
              "      <td>0</td>\n",
              "      <td>1</td>\n",
              "      <td>889</td>\n",
              "      <td>0</td>\n",
              "      <td>0</td>\n",
              "      <td>7</td>\n",
              "      <td>6</td>\n",
              "      <td>819</td>\n",
              "      <td>975</td>\n",
              "      <td>7</td>\n",
              "      <td>1</td>\n",
              "      <td>benign</td>\n",
              "    </tr>\n",
              "    <tr>\n",
              "      <th>4</th>\n",
              "      <td>6</td>\n",
              "      <td>0</td>\n",
              "      <td>1</td>\n",
              "      <td>882</td>\n",
              "      <td>0</td>\n",
              "      <td>0</td>\n",
              "      <td>7</td>\n",
              "      <td>6</td>\n",
              "      <td>819</td>\n",
              "      <td>968</td>\n",
              "      <td>7</td>\n",
              "      <td>1</td>\n",
              "      <td>benign</td>\n",
              "    </tr>\n",
              "    <tr>\n",
              "      <th>5</th>\n",
              "      <td>54</td>\n",
              "      <td>54</td>\n",
              "      <td>3</td>\n",
              "      <td>5062</td>\n",
              "      <td>0</td>\n",
              "      <td>0</td>\n",
              "      <td>63</td>\n",
              "      <td>54</td>\n",
              "      <td>5457</td>\n",
              "      <td>5719</td>\n",
              "      <td>63</td>\n",
              "      <td>9</td>\n",
              "      <td>benign</td>\n",
              "    </tr>\n",
              "    <tr>\n",
              "      <th>6</th>\n",
              "      <td>6</td>\n",
              "      <td>0</td>\n",
              "      <td>1</td>\n",
              "      <td>889</td>\n",
              "      <td>0</td>\n",
              "      <td>0</td>\n",
              "      <td>7</td>\n",
              "      <td>6</td>\n",
              "      <td>819</td>\n",
              "      <td>975</td>\n",
              "      <td>7</td>\n",
              "      <td>1</td>\n",
              "      <td>benign</td>\n",
              "    </tr>\n",
              "    <tr>\n",
              "      <th>7</th>\n",
              "      <td>6</td>\n",
              "      <td>0</td>\n",
              "      <td>1</td>\n",
              "      <td>1154</td>\n",
              "      <td>0</td>\n",
              "      <td>0</td>\n",
              "      <td>7</td>\n",
              "      <td>6</td>\n",
              "      <td>593</td>\n",
              "      <td>1228</td>\n",
              "      <td>7</td>\n",
              "      <td>1</td>\n",
              "      <td>benign</td>\n",
              "    </tr>\n",
              "    <tr>\n",
              "      <th>8</th>\n",
              "      <td>6</td>\n",
              "      <td>0</td>\n",
              "      <td>1</td>\n",
              "      <td>888</td>\n",
              "      <td>0</td>\n",
              "      <td>0</td>\n",
              "      <td>7</td>\n",
              "      <td>6</td>\n",
              "      <td>819</td>\n",
              "      <td>974</td>\n",
              "      <td>7</td>\n",
              "      <td>1</td>\n",
              "      <td>benign</td>\n",
              "    </tr>\n",
              "    <tr>\n",
              "      <th>9</th>\n",
              "      <td>196</td>\n",
              "      <td>0</td>\n",
              "      <td>3</td>\n",
              "      <td>16110</td>\n",
              "      <td>0</td>\n",
              "      <td>0</td>\n",
              "      <td>200</td>\n",
              "      <td>264</td>\n",
              "      <td>300472</td>\n",
              "      <td>16410</td>\n",
              "      <td>200</td>\n",
              "      <td>4</td>\n",
              "      <td>benign</td>\n",
              "    </tr>\n",
              "  </tbody>\n",
              "</table>\n",
              "</div>"
            ],
            "text/plain": [
              "   tcp_packets  dist_port_tcp  external_ips  vulume_bytes  udp_packets  \\\n",
              "0           36              6             3          3911            0   \n",
              "1          117              0             9         23514            0   \n",
              "2          196              0             6         24151            0   \n",
              "3            6              0             1           889            0   \n",
              "4            6              0             1           882            0   \n",
              "5           54             54             3          5062            0   \n",
              "6            6              0             1           889            0   \n",
              "7            6              0             1          1154            0   \n",
              "8            6              0             1           888            0   \n",
              "9          196              0             3         16110            0   \n",
              "\n",
              "   tcp_urg_packet  source_app_packets  remote_app_packets  source_app_bytes  \\\n",
              "0               0                  39                  33              5100   \n",
              "1               0                 128                 107             26248   \n",
              "2               0                 205                 214            163887   \n",
              "3               0                   7                   6               819   \n",
              "4               0                   7                   6               819   \n",
              "5               0                  63                  54              5457   \n",
              "6               0                   7                   6               819   \n",
              "7               0                   7                   6               593   \n",
              "8               0                   7                   6               819   \n",
              "9               0                 200                 264            300472   \n",
              "\n",
              "   remote_app_bytes  source_app_packets.1  dns_query_times    type  \n",
              "0              4140                    39                3  benign  \n",
              "1             24358                   128               11  benign  \n",
              "2             24867                   205                9  benign  \n",
              "3               975                     7                1  benign  \n",
              "4               968                     7                1  benign  \n",
              "5              5719                    63                9  benign  \n",
              "6               975                     7                1  benign  \n",
              "7              1228                     7                1  benign  \n",
              "8               974                     7                1  benign  \n",
              "9             16410                   200                4  benign  "
            ]
          },
          "execution_count": 4,
          "metadata": {},
          "output_type": "execute_result"
        }
      ],
      "source": [
        "cdata = data[['tcp_packets','dist_port_tcp','external_ips','vulume_bytes', 'udp_packets','tcp_urg_packet','source_app_packets', 'remote_app_packets', 'source_app_bytes', 'remote_app_bytes', 'source_app_packets.1', 'dns_query_times', 'type']]\n",
        "cdata.head(10)"
      ]
    },
    {
      "cell_type": "code",
      "execution_count": 5,
      "metadata": {
        "colab": {
          "base_uri": "https://localhost:8080/",
          "height": 472
        },
        "id": "6GSVcH6L64F2",
        "outputId": "a02bfd8a-8177-4fd6-ba3a-6440895efc6c"
      },
      "outputs": [
        {
          "data": {
            "image/png": "[encoded data removed]",
            "text/plain": [
              "<Figure size 432x288 with 1 Axes>"
            ]
          },
          "metadata": {
            "needs_background": "light"
          },
          "output_type": "display_data"
        }
      ],
      "source": [
        "import matplotlib.pyplot as plt\n",
        "\n",
        "plt.scatter(cdata.tcp_packets, cdata.source_app_packets, color = 'blue')\n",
        "plt.xlabel('TCP Packets')\n",
        "plt.ylabel('Source App Packets')\n",
        "plt.title('Hubungan antara TCP Packets dan Source App Packets')\n",
        "plt.show()\n"
      ]
    },
    {
      "cell_type": "code",
      "execution_count": 6,
      "metadata": {
        "colab": {
          "base_uri": "https://localhost:8080/",
          "height": 472
        },
        "id": "e7K3PmA3DZxd",
        "outputId": "6b3b5cc1-917e-4491-f5be-996c1eeecc37"
      },
      "outputs": [
        {
          "data": {
            "image/png": "[encoded data removed]",
            "text/plain": [
              "<Figure size 432x288 with 1 Axes>"
            ]
          },
          "metadata": {
            "needs_background": "light"
          },
          "output_type": "display_data"
        }
      ],
      "source": [
        "# Contoh menggunakan warna yang berbeda untuk setiap kelas\n",
        "plt.scatter(cdata[cdata['type'] == 'malicious'].tcp_packets, cdata[cdata['type'] == 'malicious'].source_app_packets, color='red', label ='malicious')\n",
        "plt.scatter(cdata[cdata['type'] == 'benign'].tcp_packets, cdata[cdata['type'] == 'benign'].source_app_packets, color='blue', label ='benign')\n",
        "plt.xlabel('TCP Packets')\n",
        "plt.ylabel('Source App Packets')\n",
        "plt.title('Hubungan antara TCP Packets dan Source App Packets')\n",
        "plt.legend()\n",
        "plt.show()\n"
      ]
    },
    {
      "cell_type": "code",
      "execution_count": 7,
      "metadata": {
        "colab": {
          "base_uri": "https://localhost:8080/",
          "height": 472
        },
        "id": "lHgrCPY4Bfuu",
        "outputId": "2d31b514-b64c-45a5-ee44-b2286e90a5fd"
      },
      "outputs": [
        {
          "data": {
            "image/png": "[encoded data removed]",
            "text/plain": [
              "<Figure size 432x288 with 1 Axes>"
            ]
          },
          "metadata": {
            "needs_background": "light"
          },
          "output_type": "display_data"
        }
      ],
      "source": [
        "plt.scatter(cdata.dist_port_tcp, cdata.dist_port_tcp, color = 'blue')\n",
        "plt.xlabel('dist port tcp')\n",
        "plt.ylabel('avg remote pkt rate')\n",
        "plt.title('Hubungan antara Pola Komunikasi dengan tingkat paket yang dikirim atau diterima')\n",
        "plt.show()\n"
      ]
    },
    {
      "cell_type": "code",
      "execution_count": 8,
      "metadata": {},
      "outputs": [
        {
          "data": {
            "image/png": "[encoded data removed]",
            "text/plain": [
              "<Figure size 432x288 with 1 Axes>"
            ]
          },
          "metadata": {
            "needs_background": "light"
          },
          "output_type": "display_data"
        }
      ],
      "source": [
        "# Buat objek LinearRegression\n",
        "model = LinearRegression()\n",
        "\n",
        "# Sesuaikan model dengan data\n",
        "model.fit(cdata.tcp_packets.values.reshape(-1, 1), cdata.source_app_packets)\n",
        "\n",
        "predicted_source_app_packets = model.predict(cdata.tcp_packets.values.reshape(-1, 1))\n",
        "\n",
        "plt.scatter(cdata.tcp_packets, cdata.source_app_packets, color='blue', label='Actual Data')\n",
        "plt.plot(cdata.tcp_packets, predicted_source_app_packets, color='red', label='Linear Regression')\n",
        "\n",
        "plt.xlabel('TCP Packets')\n",
        "plt.ylabel('Source App Packets')\n",
        "plt.title('Hubungan antara TCP Packets dan Source App Packets dengan Regresi Linier')\n",
        "\n",
        "plt.legend()\n",
        "\n",
        "plt.show()"
      ]
    },
    {
      "cell_type": "code",
      "execution_count": 9,
      "metadata": {
        "colab": {
          "base_uri": "https://localhost:8080/",
          "height": 472
        },
        "id": "W-V3iWxrl3hn",
        "outputId": "2810241d-b776-46b4-cb95-8bf1fa13bd70"
      },
      "outputs": [
        {
          "data": {
            "image/png": "[encoded data removed]",
            "text/plain": [
              "<Figure size 432x288 with 1 Axes>"
            ]
          },
          "metadata": {
            "needs_background": "light"
          },
          "output_type": "display_data"
        }
      ],
      "source": [
        "# Buat model untuk data malicious\n",
        "malicious_model = LinearRegression()\n",
        "malicious_model.fit(cdata[cdata['type'] == 'malicious'].tcp_packets.values.reshape(-1, 1), cdata[cdata['type'] == 'malicious'].source_app_packets)\n",
        "\n",
        "# Buat model untuk data benign\n",
        "benign_model = LinearRegression()\n",
        "benign_model.fit(cdata[cdata['type'] == 'benign'].tcp_packets.values.reshape(-1, 1), cdata[cdata['type'] == 'benign'].source_app_packets)\n",
        "\n",
        "# Prediksi untuk data malicious\n",
        "predicted_malicious_source_app_packets = malicious_model.predict(cdata[cdata['type'] == 'malicious'].tcp_packets.values.reshape(-1, 1))\n",
        "\n",
        "# Prediksi untuk data benign\n",
        "predicted_benign_source_app_packets = benign_model.predict(cdata[cdata['type'] == 'benign'].tcp_packets.values.reshape(-1, 1))\n",
        "\n",
        "# Plot data malicious\n",
        "plt.scatter(cdata[cdata['type'] == 'malicious'].tcp_packets, cdata[cdata['type'] == 'malicious'].source_app_packets, color='red', label ='malicious')\n",
        "\n",
        "# Plot regresi linear untuk data malicious\n",
        "plt.plot(cdata[cdata['type'] == 'malicious'].tcp_packets, predicted_malicious_source_app_packets, color='red', linestyle='--')\n",
        "\n",
        "# Plot data benign\n",
        "plt.scatter(cdata[cdata['type'] == 'benign'].tcp_packets, cdata[cdata['type'] == 'benign'].source_app_packets, color='blue', label ='benign')\n",
        "\n",
        "# Plot regresi linear untuk data benign\n",
        "plt.plot(cdata[cdata['type'] == 'benign'].tcp_packets, predicted_benign_source_app_packets, color='purple', linestyle='--')\n",
        "\n",
        "# Tambahkan label dan judul\n",
        "plt.xlabel('TCP Packets')\n",
        "plt.ylabel('Source App Packets')\n",
        "plt.title('Hubungan antara TCP Packets dan Source App Packets')\n",
        "plt.legend()\n",
        "plt.show()"
      ]
    },
    {
      "cell_type": "code",
      "execution_count": 10,
      "metadata": {
        "id": "1fFMKcYprEEp"
      },
      "outputs": [
        {
          "data": {
            "image/png": "[encoded data removed]",
            "text/plain": [
              "<Figure size 432x288 with 1 Axes>"
            ]
          },
          "metadata": {
            "needs_background": "light"
          },
          "output_type": "display_data"
        }
      ],
      "source": [
        "from sklearn.linear_model import LinearRegression\n",
        "import matplotlib.pyplot as plt\n",
        "\n",
        "# Create a LinearRegression object\n",
        "model = LinearRegression()\n",
        "\n",
        "# Reshape the data for the model\n",
        "X = cdata.dist_port_tcp.values.reshape(-1, 1)\n",
        "y = cdata.dist_port_tcp  # Assuming there might be a mistake in your code, should be 'avg_remote_pkt_rate' instead of 'dist_port_tcp'\n",
        "\n",
        "# Fit the model to the data\n",
        "model.fit(X, y)\n",
        "\n",
        "# Predict the avg remote pkt rate using the fitted model\n",
        "predicted_avg_remote_pkt_rate = model.predict(X)\n",
        "\n",
        "# Scatter plot for actual data\n",
        "plt.scatter(cdata.dist_port_tcp, cdata.dist_port_tcp, color='blue', label='Actual Data')\n",
        "\n",
        "# Plot the linear regression line\n",
        "plt.plot(cdata.dist_port_tcp, predicted_avg_remote_pkt_rate, color='red', label='Linear Regression')\n",
        "\n",
        "# Add labels and title\n",
        "plt.xlabel('dist port tcp')\n",
        "plt.ylabel('avg remote pkt rate')\n",
        "plt.title('Hubungan antara Pola Komunikasi dengan tingkat paket yang dikirim atau diterima')\n",
        "\n",
        "# Add legend\n",
        "plt.legend()\n",
        "\n",
        "# Show the plot\n",
        "plt.show()"
      ]
    }
  ],
  "metadata": {
    "colab": {
      "provenance": []
    },
    "kernelspec": {
      "display_name": "Python 3",
      "name": "python3"
    },
    "language_info": {
      "codemirror_mode": {
        "name": "ipython",
        "version": 3
      },
      "file_extension": ".py",
      "mimetype": "text/x-python",
      "name": "python",
      "nbconvert_exporter": "python",
      "pygments_lexer": "ipython3",
      "version": "3.9.12"
    }
  },
  "nbformat": 4,
  "nbformat_minor": 0
}
