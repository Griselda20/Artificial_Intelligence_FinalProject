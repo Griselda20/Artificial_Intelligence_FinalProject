{
  "cells": [
    {
      "cell_type": "code",
      "execution_count": 3,
      "metadata": {
        "id": "d2vrCfJoLbBZ"
      },
      "outputs": [
        {
          "ename": "ModuleNotFoundError",
          "evalue": "No module named 'pandas'",
          "output_type": "error",
          "traceback": [
            "\u001b[1;31m---------------------------------------------------------------------------\u001b[0m",
            "\u001b[1;31mModuleNotFoundError\u001b[0m                       Traceback (most recent call last)",
            "\u001b[1;32mc:\\Users\\nessy\\Documents\\Semester 5\\Kecerdasan Buatan\\Proyek\\Malware-Classification-using-Linear-Regression-Method\\Visualisasi\\Visualisasi_Code.ipynb Cell 1\u001b[0m line \u001b[0;36m1\n\u001b[1;32m----> <a href='vscode-notebook-cell:/c%3A/Users/nessy/Documents/Semester%205/Kecerdasan%20Buatan/Proyek/Malware-Classification-using-Linear-Regression-Method/Visualisasi/Visualisasi_Code.ipynb#W0sZmlsZQ%3D%3D?line=0'>1</a>\u001b[0m \u001b[39mimport\u001b[39;00m \u001b[39mpandas\u001b[39;00m \u001b[39mas\u001b[39;00m \u001b[39mpd\u001b[39;00m \u001b[39m#untuk dataframe\u001b[39;00m\n\u001b[0;32m      <a href='vscode-notebook-cell:/c%3A/Users/nessy/Documents/Semester%205/Kecerdasan%20Buatan/Proyek/Malware-Classification-using-Linear-Regression-Method/Visualisasi/Visualisasi_Code.ipynb#W0sZmlsZQ%3D%3D?line=1'>2</a>\u001b[0m \u001b[39mimport\u001b[39;00m \u001b[39mpylab\u001b[39;00m \u001b[39mas\u001b[39;00m \u001b[39mpl\u001b[39;00m \u001b[39m#untuk plotting\u001b[39;00m\n\u001b[0;32m      <a href='vscode-notebook-cell:/c%3A/Users/nessy/Documents/Semester%205/Kecerdasan%20Buatan/Proyek/Malware-Classification-using-Linear-Regression-Method/Visualisasi/Visualisasi_Code.ipynb#W0sZmlsZQ%3D%3D?line=2'>3</a>\u001b[0m get_ipython()\u001b[39m.\u001b[39mrun_line_magic(\u001b[39m'\u001b[39m\u001b[39mmatplotlib\u001b[39m\u001b[39m'\u001b[39m, \u001b[39m'\u001b[39m\u001b[39minline\u001b[39m\u001b[39m'\u001b[39m)\n",
            "\u001b[1;31mModuleNotFoundError\u001b[0m: No module named 'pandas'"
          ]
        }
      ],
      "source": [
        "import pandas as pd #untuk dataframe\n",
        "import pylab as pl #untuk plotting\n",
        "%matplotlib inline"
      ]
    },
    {
      "cell_type": "code",
      "execution_count": 1,
      "metadata": {},
      "outputs": [
        {
          "ename": "NameError",
          "evalue": "name 'pd' is not defined",
          "output_type": "error",
          "traceback": [
            "\u001b[1;31m---------------------------------------------------------------------------\u001b[0m",
            "\u001b[1;31mNameError\u001b[0m                                 Traceback (most recent call last)",
            "\u001b[1;32mc:\\Users\\nessy\\Documents\\Semester 5\\Kecerdasan Buatan\\Proyek\\Malware-Classification-using-Linear-Regression-Method\\Visualisasi\\Visualisasi_Code.ipynb Cell 2\u001b[0m line \u001b[0;36m1\n\u001b[1;32m----> <a href='vscode-notebook-cell:/c%3A/Users/nessy/Documents/Semester%205/Kecerdasan%20Buatan/Proyek/Malware-Classification-using-Linear-Regression-Method/Visualisasi/Visualisasi_Code.ipynb#W1sZmlsZQ%3D%3D?line=0'>1</a>\u001b[0m data \u001b[39m=\u001b[39m pd\u001b[39m.\u001b[39mread_csv(\u001b[39m'\u001b[39m\u001b[39mandroid_traffic.csv\u001b[39m\u001b[39m'\u001b[39m, sep\u001b[39m=\u001b[39m\u001b[39m'\u001b[39m\u001b[39m;\u001b[39m\u001b[39m'\u001b[39m)\n",
            "\u001b[1;31mNameError\u001b[0m: name 'pd' is not defined"
          ]
        }
      ],
      "source": [
        "data = pd.read_csv('android_traffic.csv', sep=';')"
      ]
    },
    {
      "cell_type": "code",
      "execution_count": null,
      "metadata": {},
      "outputs": [],
      "source": [
        "# melihat 5 baris pertama data\n",
        "data.head()"
      ]
    },
    {
      "cell_type": "code",
      "execution_count": null,
      "metadata": {},
      "outputs": [],
      "source": [
        "cdata = data[['tcp_packets','dist_port_tcp','external_ips','vulume_bytes', 'udp_packets','tcp_urg_packet','source_app_packets', 'remote_app_packets', 'source_app_bytes', 'remote_app_bytes', 'source_app_packets.1', 'dns_query_times', 'type']]\n",
        "cdata.head(10)"
      ]
    },
    {
      "cell_type": "code",
      "execution_count": null,
      "metadata": {},
      "outputs": [],
      "source": [
        "import matplotlib.pyplot as plt\n",
        "\n",
        "plt.scatter(cdata.tcp_packets, cdata.source_app_packets, color = 'blue')\n",
        "plt.xlabel('TCP Packets')\n",
        "plt.ylabel('Source App Packets')\n",
        "plt.title('Hubungan antara TCP Packets dan Source App Packets')\n",
        "plt.show()\n"
      ]
    },
    {
      "cell_type": "code",
      "execution_count": null,
      "metadata": {},
      "outputs": [],
      "source": [
        "# Contoh menggunakan warna yang berbeda untuk setiap kelas\n",
        "plt.scatter(cdata[cdata['type'] == 'malicious'].tcp_packets, cdata[cdata['type'] == 'malicious'].source_app_packets, color='red', label ='malicious')\n",
        "plt.scatter(cdata[cdata['type'] == 'benign'].tcp_packets, cdata[cdata['type'] == 'benign'].source_app_packets, color='blue', label ='benign')\n",
        "plt.xlabel('TCP Packets')\n",
        "plt.ylabel('Source App Packets')\n",
        "plt.title('Hubungan antara TCP Packets dan Source App Packets')\n",
        "plt.legend()\n",
        "plt.show()\n"
      ]
    }
  ],
  "metadata": {
    "colab": {
      "provenance": []
    },
    "kernelspec": {
      "display_name": "Python 3",
      "name": "python3"
    },
    "language_info": {
      "codemirror_mode": {
        "name": "ipython",
        "version": 3
      },
      "file_extension": ".py",
      "mimetype": "text/x-python",
      "name": "python",
      "nbconvert_exporter": "python",
      "pygments_lexer": "ipython3",
      "version": "3.11.6"
    }
  },
  "nbformat": 4,
  "nbformat_minor": 0
}
