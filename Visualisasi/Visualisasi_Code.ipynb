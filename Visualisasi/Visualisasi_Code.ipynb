{
  "cells": [
    {
      "cell_type": "code",
      "execution_count": null,
      "metadata": {
        "id": "d2vrCfJoLbBZ"
      },
      "outputs": [],
      "source": [
        "import pandas as pd #untuk dataframe\n",
        "import pylab as pl #untuk plotting\n",
        "%matplotlib inline"
      ]
    },
    {
      "cell_type": "code",
      "execution_count": null,
      "metadata": {},
      "outputs": [],
      "source": [
        "data = pd.read_csv('android_traffic.csv', sep=';')"
      ]
    },
    {
      "cell_type": "code",
      "execution_count": null,
      "metadata": {},
      "outputs": [],
      "source": [
        "# melihat 5 baris pertama data\n",
        "data.head()"
      ]
    },
    {
      "cell_type": "code",
      "execution_count": null,
      "metadata": {},
      "outputs": [],
      "source": [
        "cdata = data[['tcp_packets','dist_port_tcp','external_ips','vulume_bytes', 'udp_packets','tcp_urg_packet','source_app_packets', 'remote_app_packets', 'source_app_bytes', 'remote_app_bytes', 'source_app_packets.1', 'dns_query_times', 'type']]\n",
        "cdata.head(10)"
      ]
    },
    {
      "cell_type": "code",
      "execution_count": null,
      "metadata": {},
      "outputs": [],
      "source": [
        "import matplotlib.pyplot as plt\n",
        "\n",
        "plt.scatter(cdata.tcp_packets, cdata.source_app_packets, color = 'blue')\n",
        "plt.xlabel('TCP Packets')\n",
        "plt.ylabel('Source App Packets')\n",
        "plt.title('Hubungan antara TCP Packets dan Source App Packets')\n",
        "plt.show()\n"
      ]
    },
    {
      "cell_type": "code",
      "execution_count": null,
      "metadata": {},
      "outputs": [],
      "source": [
        "# Contoh menggunakan warna yang berbeda untuk setiap kelas\n",
        "plt.scatter(cdata[cdata['type'] == 'malicious'].tcp_packets, cdata[cdata['type'] == 'malicious'].source_app_packets, color='red', label ='malicious')\n",
        "plt.scatter(cdata[cdata['type'] == 'benign'].tcp_packets, cdata[cdata['type'] == 'benign'].source_app_packets, color='blue', label ='benign')\n",
        "plt.xlabel('TCP Packets')\n",
        "plt.ylabel('Source App Packets')\n",
        "plt.title('Hubungan antara TCP Packets dan Source App Packets')\n",
        "plt.legend()\n",
        "plt.show()\n"
      ]
    }
  ],
  "metadata": {
    "colab": {
      "provenance": []
    },
    "kernelspec": {
      "display_name": "Python 3",
      "name": "python3"
    },
    "language_info": {
      "name": "python"
    }
  },
  "nbformat": 4,
  "nbformat_minor": 0
}
